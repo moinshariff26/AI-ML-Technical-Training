{
  "cells": [
    {
      "cell_type": "markdown",
      "metadata": {
        "id": "kCzPc_7_qUuy"
      },
      "source": [
        "# Personal Task Planner Agent\n",
        "\n",
        "## Learning Objectives\n",
        "By completing this notebook, you will learn:\n",
        "- Object-oriented programming with Python classes\n",
        "- Database design and SQL operations\n",
        "- Natural language processing techniques\n",
        "- AI agent integration with LangChain\n",
        "- Error handling and data validation"
      ],
      "id": "kCzPc_7_qUuy"
    },
    {
      "cell_type": "markdown",
      "metadata": {
        "id": "0XqmbfdzqUu2"
      },
      "source": [
        "## Setup and Imports"
      ],
      "id": "0XqmbfdzqUu2"
    },
    {
      "cell_type": "code",
      "execution_count": null,
      "metadata": {
        "colab": {
          "base_uri": "https://localhost:8080/"
        },
        "id": "omQBPQxCqUu2",
        "outputId": "81ab22e0-a73c-4476-e2b3-f7b21084ce77"
      },
      "outputs": [
        {
          "output_type": "stream",
          "name": "stdout",
          "text": [
            "\u001b[?25l   \u001b[90m━━━━━━━━━━━━━━━━━━━━━━━━━━━━━━━━━━━━━━━━\u001b[0m \u001b[32m0.0/131.4 kB\u001b[0m \u001b[31m?\u001b[0m eta \u001b[36m-:--:--\u001b[0m\r\u001b[2K   \u001b[90m━━━━━━━━━━━━━━━━━━━━━━━━━━━━━━━━━━━━━━━━\u001b[0m \u001b[32m131.4/131.4 kB\u001b[0m \u001b[31m7.0 MB/s\u001b[0m eta \u001b[36m0:00:00\u001b[0m\n",
            "\u001b[?25h"
          ]
        }
      ],
      "source": [
        "# Install required packages\n",
        "!pip install langchain_groq langchain -q"
      ],
      "id": "omQBPQxCqUu2"
    },
    {
      "cell_type": "code",
      "source": [
        "# Import necessary libraries\n",
        "import sqlite3\n",
        "from datetime import datetime, timedelta\n",
        "from typing import Optional, List\n",
        "import re\n",
        "from difflib import SequenceMatcher\n",
        "from google.colab import userdata\n",
        "from langchain_groq import ChatGroq\n",
        "from langchain.tools import Tool\n",
        "from langchain.agents import initialize_agent, AgentType"
      ],
      "metadata": {
        "id": "3_DZ1O-VyrFk"
      },
      "id": "3_DZ1O-VyrFk",
      "execution_count": null,
      "outputs": []
    },
    {
      "cell_type": "markdown",
      "metadata": {
        "id": "-127BmaVqUu3"
      },
      "source": [
        "## 1. Task Class - Data Model"
      ],
      "id": "-127BmaVqUu3"
    },
    {
      "cell_type": "code",
      "execution_count": null,
      "metadata": {
        "colab": {
          "base_uri": "https://localhost:8080/"
        },
        "id": "KqYbMh4uqUu3",
        "outputId": "aff0cf5f-b000-4c31-b7a8-4ac573625c14"
      },
      "outputs": [
        {
          "output_type": "stream",
          "name": "stdout",
          "text": [
            "Testing Task Class:\n",
            "- Buy groceries\n",
            "- Doctor appointment (due by 2024-12-25 14:30)\n"
          ]
        }
      ],
      "source": [
        "# Type code below\n",
        "\n",
        "# Test the Task class\n",
        "print(\"Testing Task Class:\")\n",
        "task1 = Task(\"Buy groceries\")\n",
        "task2 = Task(\"Doctor appointment\", datetime(2024, 12, 25, 14, 30))\n",
        "print(task1)\n",
        "print(task2)"
      ],
      "id": "KqYbMh4uqUu3"
    },
    {
      "cell_type": "markdown",
      "metadata": {
        "id": "5BKqiXmZqUu4"
      },
      "source": [
        "## 2. Database Layer - SQLite Integration"
      ],
      "id": "5BKqiXmZqUu4"
    },
    {
      "cell_type": "code",
      "execution_count": null,
      "metadata": {
        "colab": {
          "base_uri": "https://localhost:8080/"
        },
        "id": "3hMEHSakqUu4",
        "outputId": "722768d2-3bf2-463f-8a3e-d5dc2bc39219"
      },
      "outputs": [
        {
          "output_type": "stream",
          "name": "stdout",
          "text": [
            "Testing Database Operations:\n",
            "Added tasks with IDs: 1, 2\n",
            "Current tasks:\n",
            "- Buy groceries\n",
            "- Doctor appointment (due by 2024-12-25 14:30)\n"
          ]
        }
      ],
      "source": [
        "# Type code below\n",
        "\n",
        "\n",
        "# Test the database\n",
        "print(\"Testing Database Operations:\")\n",
        "db = TaskDatabase()\n",
        "task1 = Task(\"Buy groceries\")\n",
        "task2 = Task(\"Doctor appointment\", datetime(2024, 12, 25, 14, 30))\n",
        "task1_id = db.add_task(task1)\n",
        "task2_id = db.add_task(task2)\n",
        "print(f\"Added tasks with IDs: {task1_id}, {task2_id}\")\n",
        "tasks = db.list_tasks()\n",
        "print(\"Current tasks:\")\n",
        "for task in tasks:\n",
        "    print(task)"
      ],
      "id": "3hMEHSakqUu4"
    },
    {
      "cell_type": "markdown",
      "metadata": {
        "id": "J7V-E6nNqUu4"
      },
      "source": [
        "## 3. Similarity Search - NLP Techniques"
      ],
      "id": "J7V-E6nNqUu4"
    },
    {
      "cell_type": "code",
      "source": [
        "import re\n",
        "from difflib import SequenceMatcher\n",
        "\n",
        "# Type code below\n",
        "\n",
        "\n",
        "# Test it\n",
        "existing_tasks = [\n",
        "    \"buy groceries\",\n",
        "    \"doctor appointment\",\n",
        "    \"call mom\",\n",
        "    \"pay bills\",\n",
        "    \"gym workout\"\n",
        "]\n",
        "\n",
        "test_tasks = [\n",
        "    \"purchase food\",\n",
        "    \"medical checkup\",\n",
        "    \"grocery shopping\",\n",
        "    \"phone mother\",\n",
        "    \"bill payment\"\n",
        "]\n",
        "\n",
        "print(\"Task Matching Results:\")\n",
        "print(\"=\" * 50)\n",
        "\n",
        "for task in test_tasks:\n",
        "    match, score = find_closest_task(task, existing_tasks)\n",
        "    print(f\"'{task}' -> '{match}' (similarity: {score:.3f})\")\n",
        "\n",
        "print(\"\\n\" + \"=\" * 50)\n",
        "print(\"Similarity Matrix:\")\n",
        "print(\"=\" * 50)\n",
        "\n",
        "for new_task in test_tasks:\n",
        "    print(f\"\\n'{new_task}' similarities:\")\n",
        "    for existing_task in existing_tasks:\n",
        "        score = simple_task_similarity(new_task, existing_task)\n",
        "        print(f\"  vs '{existing_task}': {score:.3f}\")"
      ],
      "metadata": {
        "colab": {
          "base_uri": "https://localhost:8080/"
        },
        "id": "kIPe-g1brkV2",
        "outputId": "1e0f0812-3403-460c-d284-1b18760af68c"
      },
      "id": "kIPe-g1brkV2",
      "execution_count": null,
      "outputs": [
        {
          "output_type": "stream",
          "name": "stdout",
          "text": [
            "Task Matching Results:\n",
            "==================================================\n",
            "'purchase food' -> 'call mom' (similarity: 0.381)\n",
            "'medical checkup' -> 'call mom' (similarity: 0.348)\n",
            "'grocery shopping' -> 'buy groceries' (similarity: 0.483)\n",
            "'phone mother' -> 'doctor appointment' (similarity: 0.333)\n",
            "'bill payment' -> 'call mom' (similarity: 0.400)\n",
            "\n",
            "==================================================\n",
            "Similarity Matrix:\n",
            "==================================================\n",
            "\n",
            "'purchase food' similarities:\n",
            "  vs 'buy groceries': 0.308\n",
            "  vs 'doctor appointment': 0.129\n",
            "  vs 'call mom': 0.381\n",
            "  vs 'pay bills': 0.273\n",
            "  vs 'gym workout': 0.083\n",
            "\n",
            "'medical checkup' similarities:\n",
            "  vs 'buy groceries': 0.214\n",
            "  vs 'doctor appointment': 0.121\n",
            "  vs 'call mom': 0.348\n",
            "  vs 'pay bills': 0.167\n",
            "  vs 'gym workout': 0.308\n",
            "\n",
            "'grocery shopping' similarities:\n",
            "  vs 'buy groceries': 0.483\n",
            "  vs 'doctor appointment': 0.471\n",
            "  vs 'call mom': 0.083\n",
            "  vs 'pay bills': 0.240\n",
            "  vs 'gym workout': 0.222\n",
            "\n",
            "'phone mother' similarities:\n",
            "  vs 'buy groceries': 0.240\n",
            "  vs 'doctor appointment': 0.333\n",
            "  vs 'call mom': 0.300\n",
            "  vs 'pay bills': 0.190\n",
            "  vs 'gym workout': 0.261\n",
            "\n",
            "'bill payment' similarities:\n",
            "  vs 'buy groceries': 0.240\n",
            "  vs 'doctor appointment': 0.333\n",
            "  vs 'call mom': 0.400\n",
            "  vs 'pay bills': 0.381\n",
            "  vs 'gym workout': 0.261\n"
          ]
        }
      ]
    },
    {
      "cell_type": "markdown",
      "metadata": {
        "id": "FcTEzQKdqUu5"
      },
      "source": [
        "## 4. Date Parser - Natural Language Processing"
      ],
      "id": "FcTEzQKdqUu5"
    },
    {
      "cell_type": "code",
      "execution_count": null,
      "metadata": {
        "colab": {
          "base_uri": "https://localhost:8080/"
        },
        "id": "6Qrc8hDcqUu5",
        "outputId": "66300e0d-2beb-4d17-c417-a4f1ca16e4dc"
      },
      "outputs": [
        {
          "output_type": "stream",
          "name": "stdout",
          "text": [
            "Testing Date Parser:\n",
            "'meeting tomorrow at 2pm' → 2025-08-12 14:00:00\n",
            "'appointment today at 9:30am' → 2025-08-11 09:30:00\n",
            "'buy groceries tomorrow' → 2025-08-12 09:00:00\n"
          ]
        }
      ],
      "source": [
        "# Date parsing function\n",
        "# Type code below\n",
        "\n",
        "\n",
        "# Test date parser\n",
        "print(\"Testing Date Parser:\")\n",
        "test_dates = [\n",
        "    \"meeting tomorrow at 2pm\",\n",
        "    \"appointment today at 9:30am\",\n",
        "    \"buy groceries tomorrow\"\n",
        "]\n",
        "\n",
        "for date_text in test_dates:\n",
        "    parsed = parse_relative_date(date_text)\n",
        "    print(f\"'{date_text}' → {parsed}\")"
      ],
      "id": "6Qrc8hDcqUu5"
    },
    {
      "cell_type": "markdown",
      "metadata": {
        "id": "N5v-je0sqUu5"
      },
      "source": [
        "## 5. Tool Functions - API Design"
      ],
      "id": "N5v-je0sqUu5"
    },
    {
      "cell_type": "code",
      "execution_count": null,
      "metadata": {
        "id": "BT8cAYtGqUu6"
      },
      "outputs": [],
      "source": [
        "# Type code below\n"
      ],
      "id": "BT8cAYtGqUu6"
    },
    {
      "cell_type": "markdown",
      "metadata": {
        "id": "s1zTdSsWqUu6"
      },
      "source": [
        "## 6. Complete System Integration"
      ],
      "id": "s1zTdSsWqUu6"
    },
    {
      "cell_type": "code",
      "source": [
        "# Create the working agent\n",
        "# Type code below\n",
        "\n",
        "# Initialize the fixed agent\n",
        "print(\"Creating task management agent...\")\n",
        "agent = create_agent()\n",
        "\n",
        "if agent:\n",
        "    print(\"✅ Agent created successfully!\")\n",
        "else:\n",
        "    print(\"❌ Failed to create agent. Check your GROQ_API_KEY.\")"
      ],
      "metadata": {
        "colab": {
          "base_uri": "https://localhost:8080/"
        },
        "id": "c6k_lG6cz13c",
        "outputId": "cb88ff5c-e2d6-474d-cfca-83906c7a8948"
      },
      "id": "c6k_lG6cz13c",
      "execution_count": null,
      "outputs": [
        {
          "output_type": "stream",
          "name": "stdout",
          "text": [
            "Creating task management agent...\n",
            "✅ Agent created successfully!\n"
          ]
        }
      ]
    },
    {
      "cell_type": "code",
      "source": [
        "# Simple test function\n",
        "def test_agent():\n",
        "    \"\"\"Test the fixed agent\"\"\"\n",
        "    if not agent:\n",
        "        print(\"Agent not initialized!\")\n",
        "        return\n",
        "\n",
        "    print(\"\\n🧪 Testing Agent...\")\n",
        "    print(\"=\" * 50)\n",
        "\n",
        "    # Test each function directly first\n",
        "    print(\"\\n📝 Testing tool functions directly:\")\n",
        "    print(\"1. Adding task:\", add_task_tool(\"Buy groceries\"))\n",
        "    print(\"2. Adding task with time:\", add_task_tool(\"Doctor appointment tomorrow at 2pm\"))\n",
        "    print(\"3. Listing tasks:\", list_tasks_tool(\"\"))\n",
        "    print(\"4. Deleting task 5:\", delete_task_tool(\"5\"))\n",
        "    print(\"5. Listing after deletion:\", list_tasks_tool(\"\"))\n",
        "\n",
        "    print(\"\\n🤖 Testing with agent:\")\n",
        "    try:\n",
        "        # Simple tests with the agent\n",
        "        result1 = agent.run(\"Add task: Call mom\")\n",
        "        print(\"Agent result 1:\", result1)\n",
        "\n",
        "        result2 = agent.run(\"List all my tasks\")\n",
        "        print(\"Agent result 2:\", result2)\n",
        "\n",
        "    except Exception as e:\n",
        "        print(f\"Agent test error: {e}\")\n",
        "\n",
        "# Run the test\n",
        "test_agent()"
      ],
      "metadata": {
        "colab": {
          "base_uri": "https://localhost:8080/"
        },
        "id": "UIQXQ0_l0LGi",
        "outputId": "678855f4-b1c1-43ec-ae0d-77b7c89d71cf"
      },
      "id": "UIQXQ0_l0LGi",
      "execution_count": null,
      "outputs": [
        {
          "output_type": "stream",
          "name": "stdout",
          "text": [
            "\n",
            "🧪 Testing Fixed Agent...\n",
            "==================================================\n",
            "\n",
            "📝 Testing tool functions directly:\n",
            "1. Adding task: ✅ Task 'Buy groceries' added successfully with ID 3\n",
            "2. Adding task with time: ✅ Task 'Doctor appointment' added successfully with ID 4, due 2025-08-12 14:00\n",
            "3. Listing tasks: 📋 Your Tasks:\n",
            "[ID: 1] - Buy groceries\n",
            "[ID: 3] - Buy groceries\n",
            "[ID: 2] - Doctor appointment (due by 2024-12-25 14:30)\n",
            "[ID: 4] - Doctor appointment (due by 2025-08-12 14:00)\n",
            "4. Deleting task 5: ❌ Task with ID 5 not found\n",
            "5. Listing after deletion: 📋 Your Tasks:\n",
            "[ID: 1] - Buy groceries\n",
            "[ID: 3] - Buy groceries\n",
            "[ID: 2] - Doctor appointment (due by 2024-12-25 14:30)\n",
            "[ID: 4] - Doctor appointment (due by 2025-08-12 14:00)\n",
            "\n",
            "🤖 Testing with agent:\n",
            "\n",
            "\n",
            "\u001b[1m> Entering new AgentExecutor chain...\u001b[0m\n"
          ]
        },
        {
          "output_type": "stream",
          "name": "stderr",
          "text": [
            "/tmp/ipython-input-3589429921.py:22: LangChainDeprecationWarning: The method `Chain.run` was deprecated in langchain 0.1.0 and will be removed in 1.0. Use :meth:`~invoke` instead.\n",
            "  result1 = agent.run(\"Add task: Call mom\")\n"
          ]
        },
        {
          "output_type": "stream",
          "name": "stdout",
          "text": [
            "\u001b[32;1m\u001b[1;3mThought: I need to add a new task to the system. The task description is \"Call mom\".\n",
            "\n",
            "Action: add_task\n",
            "Action Input: \"Call mom\"\u001b[0m\n",
            "Observation: \u001b[36;1m\u001b[1;3m✅ Task 'Call mom' added successfully with ID 5\u001b[0m\n",
            "Thought:\u001b[32;1m\u001b[1;3mThought: Now that I've added the task, I should check if it's been added correctly.\n",
            "\n",
            "Action: list_tasks\n",
            "Action Input: ''\u001b[0m\n",
            "Observation: \u001b[33;1m\u001b[1;3m📋 Your Tasks:\n",
            "[ID: 1] - Buy groceries\n",
            "[ID: 3] - Buy groceries\n",
            "[ID: 5] - Call mom\n",
            "[ID: 2] - Doctor appointment (due by 2024-12-25 14:30)\n",
            "[ID: 4] - Doctor appointment (due by 2025-08-12 14:00)\u001b[0m\n",
            "Thought:\u001b[32;1m\u001b[1;3mFinal Answer: The task \"Call mom\" has been added successfully with ID 5.\u001b[0m\n",
            "\n",
            "\u001b[1m> Finished chain.\u001b[0m\n",
            "Agent result 1: The task \"Call mom\" has been added successfully with ID 5.\n",
            "\n",
            "\n",
            "\u001b[1m> Entering new AgentExecutor chain...\u001b[0m\n",
            "\u001b[32;1m\u001b[1;3mThought: I need to list all my tasks. I'll use the list_tasks action with no input to get all tasks.\n",
            "\n",
            "Action: list_tasks\n",
            "Action Input: ''\u001b[0m\n",
            "Observation: \u001b[33;1m\u001b[1;3m📋 Your Tasks:\n",
            "[ID: 1] - Buy groceries\n",
            "[ID: 3] - Buy groceries\n",
            "[ID: 5] - Call mom\n",
            "[ID: 2] - Doctor appointment (due by 2024-12-25 14:30)\n",
            "[ID: 4] - Doctor appointment (due by 2025-08-12 14:00)\u001b[0m\n",
            "Thought:\u001b[32;1m\u001b[1;3mThought: I now have a list of all my tasks. I can see that I have tasks to buy groceries, call my mom, and attend doctor appointments.\n",
            "\n",
            "Final Answer: The list of all my tasks is:\n",
            "\n",
            "📋 Your Tasks:\n",
            "[ID: 1] - Buy groceries\n",
            "[ID: 3] - Buy groceries\n",
            "[ID: 5] - Call mom\n",
            "[ID: 2] - Doctor appointment (due by 2024-12-25 14:30)\n",
            "[ID: 4] - Doctor appointment (due by 2025-08-12 14:00)\u001b[0m\n",
            "\n",
            "\u001b[1m> Finished chain.\u001b[0m\n",
            "Agent result 2: The list of all my tasks is:\n",
            "\n",
            "📋 Your Tasks:\n",
            "[ID: 1] - Buy groceries\n",
            "[ID: 3] - Buy groceries\n",
            "[ID: 5] - Call mom\n",
            "[ID: 2] - Doctor appointment (due by 2024-12-25 14:30)\n",
            "[ID: 4] - Doctor appointment (due by 2025-08-12 14:00)\n"
          ]
        }
      ]
    },
    {
      "cell_type": "code",
      "source": [
        "# Agent-based chat interface\n",
        "# Type code below\n",
        "\n",
        "# Run the agent chat\n",
        "agent_chat()"
      ],
      "metadata": {
        "colab": {
          "base_uri": "https://localhost:8080/",
          "height": 1000
        },
        "id": "zybs4N6e1gUP",
        "outputId": "c5d89571-97a1-4fa2-826f-fc5b6a13fc2e"
      },
      "id": "zybs4N6e1gUP",
      "execution_count": null,
      "outputs": [
        {
          "output_type": "stream",
          "name": "stdout",
          "text": [
            "\n",
            "💬 Agent Task Chat (type 'quit' to exit)\n",
            "==================================================\n",
            "\n",
            "You: find my current tasks for today\n",
            "Agent thinking...\n",
            "\n",
            "\n",
            "\u001b[1m> Entering new AgentExecutor chain...\u001b[0m\n",
            "\u001b[32;1m\u001b[1;3mThought: I need to list all tasks, and since the question is about tasks for today, I'll use the current date as the filter.\n",
            "\n",
            "Action: list_tasks\n",
            "Action Input: ''\u001b[0m\n",
            "Observation: \u001b[33;1m\u001b[1;3m📋 Your Tasks:\n",
            "[ID: 1] - Buy groceries\n",
            "[ID: 3] - Buy groceries\n",
            "[ID: 5] - Call mom\n",
            "[ID: 2] - Doctor appointment (due by 2024-12-25 14:30)\n",
            "[ID: 4] - Doctor appointment (due by 2025-08-12 14:00)\u001b[0m\n",
            "Thought:\u001b[32;1m\u001b[1;3mThought: I see that I have multiple tasks, and I want to filter them to only show tasks for today. Since the question is about tasks for today, I'll use the current date as the filter.\n",
            "\n",
            "Action: list_tasks\n",
            "Action Input: '2024-12-25'\u001b[0m\n",
            "Observation: \u001b[33;1m\u001b[1;3m📋 Your Tasks:\n",
            "[ID: 2] - Doctor appointment (due by 2024-12-25 14:30)\n",
            "[ID: 4] - Doctor appointment (due by 2025-08-12 14:00)\u001b[0m\n",
            "Thought:\u001b[32;1m\u001b[1;3mFinal Answer: 📋 Your Tasks:\n",
            "[ID: 2] - Doctor appointment (due by 2024-12-25 14:30)\u001b[0m\n",
            "\n",
            "\u001b[1m> Finished chain.\u001b[0m\n",
            "Agent: 📋 Your Tasks:\n",
            "[ID: 2] - Doctor appointment (due by 2024-12-25 14:30)\n",
            "\n",
            "You: add a task for completing my homework by the next sunday\n",
            "Agent thinking...\n",
            "\n",
            "\n",
            "\u001b[1m> Entering new AgentExecutor chain...\u001b[0m\n",
            "\u001b[32;1m\u001b[1;3mThought: I need to add a new task to the system. The task description is \"complete my homework by the next Sunday\".\n",
            "\n",
            "Action: add_task\n",
            "Action Input: \"complete my homework by the next Sunday\"\u001b[0m\n",
            "Observation: \u001b[36;1m\u001b[1;3mError: Invalid deadline format. Use 'YYYY-MM-DD HH:MM'. Got: the next Sunday\u001b[0m\n",
            "Thought:\u001b[32;1m\u001b[1;3mThought: I need to rephrase the task description to include a valid deadline format. The task description is \"complete my homework by the next Sunday\".\n",
            "\n",
            "Action: add_task\n",
            "Action Input: \"complete my homework by 2024-12-31 23:59\"\u001b[0m\n",
            "Observation: \u001b[36;1m\u001b[1;3m✅ Task 'complete my homework' added successfully with ID 6, due 2024-12-31 23:59\u001b[0m\n",
            "Thought:\u001b[32;1m\u001b[1;3mHere's the answer:\n",
            "\n",
            "Question: add a task for completing my homework by the next sunday\n",
            "Thought: I need to add a new task to the system. The task description is \"complete my homework by the next Sunday\".\n",
            "\n",
            "Action: add_task\n",
            "Action Input: \"complete my homework by the next Sunday\"\u001b[0m\n",
            "\n",
            "\u001b[1m> Finished chain.\u001b[0m\n",
            "Agent: Here's the answer:\n",
            "\n",
            "Question: add a task for completing my homework by the next sunday\n",
            "Thought: I need to add a new task to the system. The task description is \"complete my homework by the next Sunday\".\n",
            "\n",
            "Action: add_task\n",
            "Action Input: \"complete my homework by the next Sunday\"\n",
            "\n",
            "You: what are my current tasks\n",
            "Agent thinking...\n",
            "\n",
            "\n",
            "\u001b[1m> Entering new AgentExecutor chain...\u001b[0m\n",
            "\u001b[32;1m\u001b[1;3mThought: I need to list all my current tasks to find out what they are.\n",
            "\n",
            "Action: list_tasks\n",
            "Action Input: ''\u001b[0m\n",
            "Observation: \u001b[33;1m\u001b[1;3m📋 Your Tasks:\n",
            "[ID: 1] - Buy groceries\n",
            "[ID: 3] - Buy groceries\n",
            "[ID: 5] - Call mom\n",
            "[ID: 2] - Doctor appointment (due by 2024-12-25 14:30)\n",
            "[ID: 6] - complete my homework (due by 2024-12-31 23:59)\n",
            "[ID: 4] - Doctor appointment (due by 2025-08-12 14:00)\u001b[0m\n",
            "Thought:\u001b[32;1m\u001b[1;3mThought: I now know that I have 5 tasks: Buy groceries, Buy groceries, Call mom, Doctor appointment (due by 2024-12-25 14:30), and complete my homework (due by 2024-12-31 23:59).\n",
            "\n",
            "Final Answer: I have 5 tasks: Buy groceries, Buy groceries, Call mom, Doctor appointment (due by 2024-12-25 14:30), and complete my homework (due by 2024-12-31 23:59).\u001b[0m\n",
            "\n",
            "\u001b[1m> Finished chain.\u001b[0m\n",
            "Agent: I have 5 tasks: Buy groceries, Buy groceries, Call mom, Doctor appointment (due by 2024-12-25 14:30), and complete my homework (due by 2024-12-31 23:59).\n"
          ]
        },
        {
          "output_type": "stream",
          "name": "stderr",
          "text": [
            "ERROR:root:Internal Python error in the inspect module.\n",
            "Below is the traceback from this internal error.\n",
            "\n"
          ]
        },
        {
          "output_type": "stream",
          "name": "stdout",
          "text": [
            "Traceback (most recent call last):\n",
            "  File \"/usr/local/lib/python3.11/dist-packages/IPython/core/interactiveshell.py\", line 3553, in run_code\n",
            "    exec(code_obj, self.user_global_ns, self.user_ns)\n",
            "  File \"/tmp/ipython-input-1461717383.py\", line 26, in <cell line: 0>\n",
            "    agent_chat()\n",
            "  File \"/tmp/ipython-input-1461717383.py\", line 12, in agent_chat\n",
            "    user_input = input(\"\\nYou: \").strip()\n",
            "                 ^^^^^^^^^^^^^^^^\n",
            "  File \"/usr/local/lib/python3.11/dist-packages/ipykernel/kernelbase.py\", line 1177, in raw_input\n",
            "    return self._input_request(\n",
            "           ^^^^^^^^^^^^^^^^^^^^\n",
            "  File \"/usr/local/lib/python3.11/dist-packages/ipykernel/kernelbase.py\", line 1219, in _input_request\n",
            "    raise KeyboardInterrupt(\"Interrupted by user\") from None\n",
            "KeyboardInterrupt: Interrupted by user\n",
            "\n",
            "During handling of the above exception, another exception occurred:\n",
            "\n",
            "Traceback (most recent call last):\n",
            "  File \"/usr/local/lib/python3.11/dist-packages/IPython/core/interactiveshell.py\", line 2099, in showtraceback\n",
            "    stb = value._render_traceback_()\n",
            "          ^^^^^^^^^^^^^^^^^^^^^^^^\n",
            "AttributeError: 'KeyboardInterrupt' object has no attribute '_render_traceback_'\n",
            "\n",
            "During handling of the above exception, another exception occurred:\n",
            "\n",
            "Traceback (most recent call last):\n",
            "  File \"/usr/local/lib/python3.11/dist-packages/IPython/core/ultratb.py\", line 1101, in get_records\n",
            "    return _fixed_getinnerframes(etb, number_of_lines_of_context, tb_offset)\n",
            "           ^^^^^^^^^^^^^^^^^^^^^^^^^^^^^^^^^^^^^^^^^^^^^^^^^^^^^^^^^^^^^^^^^\n",
            "  File \"/usr/local/lib/python3.11/dist-packages/IPython/core/ultratb.py\", line 248, in wrapped\n",
            "    return f(*args, **kwargs)\n",
            "           ^^^^^^^^^^^^^^^^^^\n",
            "  File \"/usr/local/lib/python3.11/dist-packages/IPython/core/ultratb.py\", line 281, in _fixed_getinnerframes\n",
            "    records = fix_frame_records_filenames(inspect.getinnerframes(etb, context))\n",
            "                                          ^^^^^^^^^^^^^^^^^^^^^^^^^^^^^^^^^^^^\n",
            "  File \"/usr/lib/python3.11/inspect.py\", line 1739, in getinnerframes\n",
            "    traceback_info = getframeinfo(tb, context)\n",
            "                     ^^^^^^^^^^^^^^^^^^^^^^^^^\n",
            "  File \"/usr/lib/python3.11/inspect.py\", line 1688, in getframeinfo\n",
            "    lines, lnum = findsource(frame)\n",
            "                  ^^^^^^^^^^^^^^^^^\n",
            "  File \"/usr/local/lib/python3.11/dist-packages/IPython/core/ultratb.py\", line 170, in findsource\n",
            "    file = getsourcefile(object) or getfile(object)\n",
            "           ^^^^^^^^^^^^^^^^^^^^^\n",
            "  File \"/usr/lib/python3.11/inspect.py\", line 948, in getsourcefile\n",
            "    module = getmodule(object, filename)\n",
            "             ^^^^^^^^^^^^^^^^^^^^^^^^^^^\n",
            "  File \"/usr/lib/python3.11/inspect.py\", line 988, in getmodule\n",
            "    if ismodule(module) and hasattr(module, '__file__'):\n",
            "       ^^^^^^^^^^^^^^^^\n",
            "  File \"/usr/lib/python3.11/inspect.py\", line 283, in ismodule\n",
            "    def ismodule(object):\n",
            "    \n",
            "KeyboardInterrupt\n"
          ]
        },
        {
          "output_type": "error",
          "ename": "TypeError",
          "evalue": "object of type 'NoneType' has no len()",
          "traceback": [
            "\u001b[0;31m---------------------------------------------------------------------------\u001b[0m",
            "\u001b[0;31mKeyboardInterrupt\u001b[0m                         Traceback (most recent call last)",
            "    \u001b[0;31m[... skipping hidden 1 frame]\u001b[0m\n",
            "\u001b[0;32m/tmp/ipython-input-1461717383.py\u001b[0m in \u001b[0;36m<cell line: 0>\u001b[0;34m()\u001b[0m\n\u001b[1;32m     25\u001b[0m \u001b[0;31m# Run the agent chat\u001b[0m\u001b[0;34m\u001b[0m\u001b[0;34m\u001b[0m\u001b[0m\n\u001b[0;32m---> 26\u001b[0;31m \u001b[0magent_chat\u001b[0m\u001b[0;34m(\u001b[0m\u001b[0;34m)\u001b[0m\u001b[0;34m\u001b[0m\u001b[0;34m\u001b[0m\u001b[0m\n\u001b[0m",
            "\u001b[0;32m/tmp/ipython-input-1461717383.py\u001b[0m in \u001b[0;36magent_chat\u001b[0;34m()\u001b[0m\n\u001b[1;32m     11\u001b[0m     \u001b[0;32mwhile\u001b[0m \u001b[0;32mTrue\u001b[0m\u001b[0;34m:\u001b[0m\u001b[0;34m\u001b[0m\u001b[0;34m\u001b[0m\u001b[0m\n\u001b[0;32m---> 12\u001b[0;31m         \u001b[0muser_input\u001b[0m \u001b[0;34m=\u001b[0m \u001b[0minput\u001b[0m\u001b[0;34m(\u001b[0m\u001b[0;34m\"\\nYou: \"\u001b[0m\u001b[0;34m)\u001b[0m\u001b[0;34m.\u001b[0m\u001b[0mstrip\u001b[0m\u001b[0;34m(\u001b[0m\u001b[0;34m)\u001b[0m\u001b[0;34m\u001b[0m\u001b[0;34m\u001b[0m\u001b[0m\n\u001b[0m\u001b[1;32m     13\u001b[0m \u001b[0;34m\u001b[0m\u001b[0m\n",
            "\u001b[0;32m/usr/local/lib/python3.11/dist-packages/ipykernel/kernelbase.py\u001b[0m in \u001b[0;36mraw_input\u001b[0;34m(self, prompt)\u001b[0m\n\u001b[1;32m   1176\u001b[0m             )\n\u001b[0;32m-> 1177\u001b[0;31m         return self._input_request(\n\u001b[0m\u001b[1;32m   1178\u001b[0m             \u001b[0mstr\u001b[0m\u001b[0;34m(\u001b[0m\u001b[0mprompt\u001b[0m\u001b[0;34m)\u001b[0m\u001b[0;34m,\u001b[0m\u001b[0;34m\u001b[0m\u001b[0;34m\u001b[0m\u001b[0m\n",
            "\u001b[0;32m/usr/local/lib/python3.11/dist-packages/ipykernel/kernelbase.py\u001b[0m in \u001b[0;36m_input_request\u001b[0;34m(self, prompt, ident, parent, password)\u001b[0m\n\u001b[1;32m   1218\u001b[0m                 \u001b[0;31m# re-raise KeyboardInterrupt, to truncate traceback\u001b[0m\u001b[0;34m\u001b[0m\u001b[0;34m\u001b[0m\u001b[0m\n\u001b[0;32m-> 1219\u001b[0;31m                 \u001b[0;32mraise\u001b[0m \u001b[0mKeyboardInterrupt\u001b[0m\u001b[0;34m(\u001b[0m\u001b[0;34m\"Interrupted by user\"\u001b[0m\u001b[0;34m)\u001b[0m \u001b[0;32mfrom\u001b[0m \u001b[0;32mNone\u001b[0m\u001b[0;34m\u001b[0m\u001b[0;34m\u001b[0m\u001b[0m\n\u001b[0m\u001b[1;32m   1220\u001b[0m             \u001b[0;32mexcept\u001b[0m \u001b[0mException\u001b[0m\u001b[0;34m:\u001b[0m\u001b[0;34m\u001b[0m\u001b[0;34m\u001b[0m\u001b[0m\n",
            "\u001b[0;31mKeyboardInterrupt\u001b[0m: Interrupted by user",
            "\nDuring handling of the above exception, another exception occurred:\n",
            "\u001b[0;31mAttributeError\u001b[0m                            Traceback (most recent call last)",
            "\u001b[0;32m/usr/local/lib/python3.11/dist-packages/IPython/core/interactiveshell.py\u001b[0m in \u001b[0;36mshowtraceback\u001b[0;34m(self, exc_tuple, filename, tb_offset, exception_only, running_compiled_code)\u001b[0m\n\u001b[1;32m   2098\u001b[0m                         \u001b[0;31m# in the engines. This should return a list of strings.\u001b[0m\u001b[0;34m\u001b[0m\u001b[0;34m\u001b[0m\u001b[0m\n\u001b[0;32m-> 2099\u001b[0;31m                         \u001b[0mstb\u001b[0m \u001b[0;34m=\u001b[0m \u001b[0mvalue\u001b[0m\u001b[0;34m.\u001b[0m\u001b[0m_render_traceback_\u001b[0m\u001b[0;34m(\u001b[0m\u001b[0;34m)\u001b[0m\u001b[0;34m\u001b[0m\u001b[0;34m\u001b[0m\u001b[0m\n\u001b[0m\u001b[1;32m   2100\u001b[0m                     \u001b[0;32mexcept\u001b[0m \u001b[0mException\u001b[0m\u001b[0;34m:\u001b[0m\u001b[0;34m\u001b[0m\u001b[0;34m\u001b[0m\u001b[0m\n",
            "\u001b[0;31mAttributeError\u001b[0m: 'KeyboardInterrupt' object has no attribute '_render_traceback_'",
            "\nDuring handling of the above exception, another exception occurred:\n",
            "\u001b[0;31mTypeError\u001b[0m                                 Traceback (most recent call last)",
            "    \u001b[0;31m[... skipping hidden 1 frame]\u001b[0m\n",
            "\u001b[0;32m/usr/local/lib/python3.11/dist-packages/IPython/core/interactiveshell.py\u001b[0m in \u001b[0;36mshowtraceback\u001b[0;34m(self, exc_tuple, filename, tb_offset, exception_only, running_compiled_code)\u001b[0m\n\u001b[1;32m   2099\u001b[0m                         \u001b[0mstb\u001b[0m \u001b[0;34m=\u001b[0m \u001b[0mvalue\u001b[0m\u001b[0;34m.\u001b[0m\u001b[0m_render_traceback_\u001b[0m\u001b[0;34m(\u001b[0m\u001b[0;34m)\u001b[0m\u001b[0;34m\u001b[0m\u001b[0;34m\u001b[0m\u001b[0m\n\u001b[1;32m   2100\u001b[0m                     \u001b[0;32mexcept\u001b[0m \u001b[0mException\u001b[0m\u001b[0;34m:\u001b[0m\u001b[0;34m\u001b[0m\u001b[0;34m\u001b[0m\u001b[0m\n\u001b[0;32m-> 2101\u001b[0;31m                         stb = self.InteractiveTB.structured_traceback(etype,\n\u001b[0m\u001b[1;32m   2102\u001b[0m                                             value, tb, tb_offset=tb_offset)\n\u001b[1;32m   2103\u001b[0m \u001b[0;34m\u001b[0m\u001b[0m\n",
            "\u001b[0;32m/usr/local/lib/python3.11/dist-packages/IPython/core/ultratb.py\u001b[0m in \u001b[0;36mstructured_traceback\u001b[0;34m(self, etype, value, tb, tb_offset, number_of_lines_of_context)\u001b[0m\n\u001b[1;32m   1365\u001b[0m         \u001b[0;32melse\u001b[0m\u001b[0;34m:\u001b[0m\u001b[0;34m\u001b[0m\u001b[0;34m\u001b[0m\u001b[0m\n\u001b[1;32m   1366\u001b[0m             \u001b[0mself\u001b[0m\u001b[0;34m.\u001b[0m\u001b[0mtb\u001b[0m \u001b[0;34m=\u001b[0m \u001b[0mtb\u001b[0m\u001b[0;34m\u001b[0m\u001b[0;34m\u001b[0m\u001b[0m\n\u001b[0;32m-> 1367\u001b[0;31m         return FormattedTB.structured_traceback(\n\u001b[0m\u001b[1;32m   1368\u001b[0m             self, etype, value, tb, tb_offset, number_of_lines_of_context)\n\u001b[1;32m   1369\u001b[0m \u001b[0;34m\u001b[0m\u001b[0m\n",
            "\u001b[0;32m/usr/local/lib/python3.11/dist-packages/IPython/core/ultratb.py\u001b[0m in \u001b[0;36mstructured_traceback\u001b[0;34m(self, etype, value, tb, tb_offset, number_of_lines_of_context)\u001b[0m\n\u001b[1;32m   1265\u001b[0m         \u001b[0;32mif\u001b[0m \u001b[0mmode\u001b[0m \u001b[0;32min\u001b[0m \u001b[0mself\u001b[0m\u001b[0;34m.\u001b[0m\u001b[0mverbose_modes\u001b[0m\u001b[0;34m:\u001b[0m\u001b[0;34m\u001b[0m\u001b[0;34m\u001b[0m\u001b[0m\n\u001b[1;32m   1266\u001b[0m             \u001b[0;31m# Verbose modes need a full traceback\u001b[0m\u001b[0;34m\u001b[0m\u001b[0;34m\u001b[0m\u001b[0m\n\u001b[0;32m-> 1267\u001b[0;31m             return VerboseTB.structured_traceback(\n\u001b[0m\u001b[1;32m   1268\u001b[0m                 \u001b[0mself\u001b[0m\u001b[0;34m,\u001b[0m \u001b[0metype\u001b[0m\u001b[0;34m,\u001b[0m \u001b[0mvalue\u001b[0m\u001b[0;34m,\u001b[0m \u001b[0mtb\u001b[0m\u001b[0;34m,\u001b[0m \u001b[0mtb_offset\u001b[0m\u001b[0;34m,\u001b[0m \u001b[0mnumber_of_lines_of_context\u001b[0m\u001b[0;34m\u001b[0m\u001b[0;34m\u001b[0m\u001b[0m\n\u001b[1;32m   1269\u001b[0m             )\n",
            "\u001b[0;32m/usr/local/lib/python3.11/dist-packages/IPython/core/ultratb.py\u001b[0m in \u001b[0;36mstructured_traceback\u001b[0;34m(self, etype, evalue, etb, tb_offset, number_of_lines_of_context)\u001b[0m\n\u001b[1;32m   1122\u001b[0m         \u001b[0;34m\"\"\"Return a nice text document describing the traceback.\"\"\"\u001b[0m\u001b[0;34m\u001b[0m\u001b[0;34m\u001b[0m\u001b[0m\n\u001b[1;32m   1123\u001b[0m \u001b[0;34m\u001b[0m\u001b[0m\n\u001b[0;32m-> 1124\u001b[0;31m         formatted_exception = self.format_exception_as_a_whole(etype, evalue, etb, number_of_lines_of_context,\n\u001b[0m\u001b[1;32m   1125\u001b[0m                                                                tb_offset)\n\u001b[1;32m   1126\u001b[0m \u001b[0;34m\u001b[0m\u001b[0m\n",
            "\u001b[0;32m/usr/local/lib/python3.11/dist-packages/IPython/core/ultratb.py\u001b[0m in \u001b[0;36mformat_exception_as_a_whole\u001b[0;34m(self, etype, evalue, etb, number_of_lines_of_context, tb_offset)\u001b[0m\n\u001b[1;32m   1080\u001b[0m \u001b[0;34m\u001b[0m\u001b[0m\n\u001b[1;32m   1081\u001b[0m \u001b[0;34m\u001b[0m\u001b[0m\n\u001b[0;32m-> 1082\u001b[0;31m         \u001b[0mlast_unique\u001b[0m\u001b[0;34m,\u001b[0m \u001b[0mrecursion_repeat\u001b[0m \u001b[0;34m=\u001b[0m \u001b[0mfind_recursion\u001b[0m\u001b[0;34m(\u001b[0m\u001b[0morig_etype\u001b[0m\u001b[0;34m,\u001b[0m \u001b[0mevalue\u001b[0m\u001b[0;34m,\u001b[0m \u001b[0mrecords\u001b[0m\u001b[0;34m)\u001b[0m\u001b[0;34m\u001b[0m\u001b[0;34m\u001b[0m\u001b[0m\n\u001b[0m\u001b[1;32m   1083\u001b[0m \u001b[0;34m\u001b[0m\u001b[0m\n\u001b[1;32m   1084\u001b[0m         \u001b[0mframes\u001b[0m \u001b[0;34m=\u001b[0m \u001b[0mself\u001b[0m\u001b[0;34m.\u001b[0m\u001b[0mformat_records\u001b[0m\u001b[0;34m(\u001b[0m\u001b[0mrecords\u001b[0m\u001b[0;34m,\u001b[0m \u001b[0mlast_unique\u001b[0m\u001b[0;34m,\u001b[0m \u001b[0mrecursion_repeat\u001b[0m\u001b[0;34m)\u001b[0m\u001b[0;34m\u001b[0m\u001b[0;34m\u001b[0m\u001b[0m\n",
            "\u001b[0;32m/usr/local/lib/python3.11/dist-packages/IPython/core/ultratb.py\u001b[0m in \u001b[0;36mfind_recursion\u001b[0;34m(etype, value, records)\u001b[0m\n\u001b[1;32m    380\u001b[0m     \u001b[0;31m# first frame (from in to out) that looks different.\u001b[0m\u001b[0;34m\u001b[0m\u001b[0;34m\u001b[0m\u001b[0m\n\u001b[1;32m    381\u001b[0m     \u001b[0;32mif\u001b[0m \u001b[0;32mnot\u001b[0m \u001b[0mis_recursion_error\u001b[0m\u001b[0;34m(\u001b[0m\u001b[0metype\u001b[0m\u001b[0;34m,\u001b[0m \u001b[0mvalue\u001b[0m\u001b[0;34m,\u001b[0m \u001b[0mrecords\u001b[0m\u001b[0;34m)\u001b[0m\u001b[0;34m:\u001b[0m\u001b[0;34m\u001b[0m\u001b[0;34m\u001b[0m\u001b[0m\n\u001b[0;32m--> 382\u001b[0;31m         \u001b[0;32mreturn\u001b[0m \u001b[0mlen\u001b[0m\u001b[0;34m(\u001b[0m\u001b[0mrecords\u001b[0m\u001b[0;34m)\u001b[0m\u001b[0;34m,\u001b[0m \u001b[0;36m0\u001b[0m\u001b[0;34m\u001b[0m\u001b[0;34m\u001b[0m\u001b[0m\n\u001b[0m\u001b[1;32m    383\u001b[0m \u001b[0;34m\u001b[0m\u001b[0m\n\u001b[1;32m    384\u001b[0m     \u001b[0;31m# Select filename, lineno, func_name to track frames with\u001b[0m\u001b[0;34m\u001b[0m\u001b[0;34m\u001b[0m\u001b[0m\n",
            "\u001b[0;31mTypeError\u001b[0m: object of type 'NoneType' has no len()"
          ]
        }
      ]
    },
    {
      "cell_type": "markdown",
      "metadata": {
        "id": "6NSTOBxmqUu6"
      },
      "source": [
        "## 7. Summary and Learning Points\n",
        "\n",
        "### Key Learning Points:\n",
        "1. **Object-Oriented Design**: Classes encapsulate data and behavior\n",
        "2. **Database Design**: Proper schema design and SQL operations\n",
        "3. **Natural Language Processing**: Understanding human language\n",
        "4. **Error Handling**: Graceful handling of edge cases\n",
        "5. **API Design**: Clean interfaces for user interaction\n"
      ],
      "id": "6NSTOBxmqUu6"
    }
  ],
  "metadata": {
    "kernelspec": {
      "display_name": "base",
      "language": "python",
      "name": "python3"
    },
    "language_info": {
      "codemirror_mode": {
        "name": "ipython",
        "version": 3
      },
      "file_extension": ".py",
      "mimetype": "text/x-python",
      "name": "python",
      "nbconvert_exporter": "python",
      "pygments_lexer": "ipython3",
      "version": "3.12.7"
    },
    "colab": {
      "provenance": []
    }
  },
  "nbformat": 4,
  "nbformat_minor": 5
}