{
 "cells": [
  {
   "cell_type": "markdown",
   "metadata": {},
   "source": [
    "# Waste Classification using CNN from Scratch with PyTorch\n",
    "\n",
    "This notebook demonstrates how to build a Convolutional Neural Network (CNN) from scratch for waste classification using PyTorch.\n",
    "\n",
    "## Dataset\n",
    "We'll use the TrashNet dataset containing images of 6 waste categories:\n",
    "- Glass\n",
    "- Paper\n",
    "- Cardboard\n",
    "- Plastic\n",
    "- Metal\n",
    "- Trash\n",
    "\n",
    "## Implementation Plan\n",
    "1. Setup Environment\n",
    "2. Download and Prepare Dataset\n",
    "3. Create Custom Dataset Class\n",
    "4. Define Data Transforms and Create DataLoaders\n",
    "5. Build CNN Model from Scratch\n",
    "6. Train the Model\n",
    "7. Plot Training Results\n",
    "8. Evaluate the Model\n",
    "9. Visualize Predictions\n"
   ]
  },
  {
   "cell_type": "markdown",
   "metadata": {},
   "source": [
    "## Package Installation\n",
    "\n",
    "### Hint:\n",
    "- Install required packages: torch, torchvision, numpy, pandas, matplotlib, scikit-learn\n",
    "- Use pip install commands\n"
   ]
  },
  {
   "cell_type": "code",
   "metadata": {},
   "source": [
    "# TODO: Install required packages\n",
    "# !pip install torch torchvision numpy pandas matplotlib scikit-learn\n"
   ],
   "execution_count": null,
   "outputs": []
  },
  {
   "cell_type": "markdown",
   "metadata": {},
   "source": [
    "## 1. Setup Environment\n",
    "\n",
    "### Hint:\n",
    "- Import torch, torchvision, numpy, pandas, matplotlib, PIL, os\n",
    "- Set random seeds for reproducibility\n"
   ]
  },
  {
   "cell_type": "code",
   "metadata": {},
   "source": [
    "# TODO: Import libraries and set seeds\n",
    "# import torch\n",
    "# import torchvision.transforms as transforms\n",
    "# import numpy as np\n",
    "# import pandas as pd\n",
    "# import matplotlib.pyplot as plt\n",
    "# from PIL import Image\n",
    "# import os\n",
    "# import random\n",
    "# torch.manual_seed(42)\n",
    "# np.random.seed(42)\n",
    "# random.seed(42)\n"
   ],
   "execution_count": null,
   "outputs": []
  },
  {
   "cell_type": "markdown",
   "metadata": {},
   "source": [
    "## 2. Download and Prepare Dataset\n",
    "\n",
    "### Hint:\n",
    "- Download TrashNet dataset zip file\n",
    "- Extract dataset\n",
    "- Define data directory\n"
   ]
  },
  {
   "cell_type": "code",
   "metadata": {},
   "source": [
    "# TODO: Download and extract dataset\n",
    "# Use wget or urllib.request\n",
    "# Use zipfile to extract\n",
    "# Define data_dir\n"
   ],
   "execution_count": null,
   "outputs": []
  },
  {
   "cell_type": "markdown",
   "metadata": {},
   "source": [
    "## 3. Create Custom Dataset Class\n",
    "\n",
    "### Hint:\n",
    "- Define a PyTorch Dataset class\n",
    "- Load images and labels\n",
    "- Apply transforms\n"
   ]
  },
  {
   "cell_type": "code",
   "metadata": {},
   "source": [
    "# TODO: Define WasteDataset class\n"
   ],
   "execution_count": null,
   "outputs": []
  },
  {
   "cell_type": "markdown",
   "metadata": {},
   "source": [
    "## 4. Define Data Transforms and Create DataLoaders\n",
    "\n",
    "### Hint:\n",
    "- Define data augmentation transforms\n",
    "- Compose transforms\n",
    "- Create train and validation datasets and loaders\n"
   ]
  },
  {
   "cell_type": "code",
   "metadata": {},
   "source": [
    "# TODO: Define transforms and create DataLoaders\n"
   ],
   "execution_count": null,
   "outputs": []
  },
  {
   "cell_type": "markdown",
   "metadata": {},
   "source": [
    "## 5. Build CNN Model from Scratch\n",
    "\n",
    "### Hint:\n",
    "- Define CNN model class\n",
    "- Use configurable parameters\n",
    "- Use Conv2d, BatchNorm2d, ReLU, MaxPool2d, Flatten, Linear, Dropout\n"
   ]
  },
  {
   "cell_type": "code",
   "metadata": {},
   "source": [
    "# TODO: Define WasteCNN model class\n"
   ],
   "execution_count": null,
   "outputs": []
  },
  {
   "cell_type": "markdown",
   "metadata": {},
   "source": [
    "## 6. Train the Model\n",
    "\n",
    "### Hint:\n",
    "- Define training loop\n",
    "- Use optimizer and loss function\n",
    "- Track training and validation loss\n"
   ]
  },
  {
   "cell_type": "code",
   "metadata": {},
   "source": [
    "# TODO: Define train_model function and train\n"
   ],
   "execution_count": null,
   "outputs": []
  },
  {
   "cell_type": "markdown",
   "metadata": {},
   "source": [
    "## 7. Plot Training Results\n",
    "\n",
    "### Hint:\n",
    "- Plot training and validation loss\n",
    "- Use matplotlib\n"
   ]
  },
  {
   "cell_type": "code",
   "metadata": {},
   "source": [
    "# TODO: Plot training and validation loss\n"
   ],
   "execution_count": null,
   "outputs": []
  },
  {
   "cell_type": "markdown",
   "metadata": {},
   "source": [
    "## 8. Evaluate the Model\n",
    "\n",
    "### Hint:\n",
    "- Evaluate model on validation set\n",
    "- Generate classification report\n",
    "- Use sklearn\n"
   ]
  },
  {
   "cell_type": "code",
   "metadata": {},
   "source": [
    "# TODO: Evaluate model and print classification report\n"
   ],
   "execution_count": null,
   "outputs": []
  },
  {
   "cell_type": "markdown",
   "metadata": {},
   "source": [
    "## 9. Visualize Predictions\n",
    "\n",
    "### Hint:\n",
    "- Visualize some predictions\n",
    "- Show images with predicted and true labels\n"
   ]
  },
  {
   "cell_type": "code",
   "metadata": {},
   "source": [
    "# TODO: Visualize predictions\n"
   ],
   "execution_count": null,
   "outputs": []
  }
 ],
 "metadata": {
  "kernelspec": {
   "display_name": "Python 3",
   "language": "python",
   "name": "python3"
  },
  "language_info": {
   "name": "python",
   "version": "3.9.13"
  }
 },
 "nbformat": 4,
 "nbformat_minor": 5
}
