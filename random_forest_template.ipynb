{
 "cells": [
  {
   "cell_type": "markdown",
   "metadata": {},
   "source": [
    "# Random Forest Tutorial - Student Template\n",
    "\n",
    "## Introduction\n",
    "\n",
    "Random Forest is an ensemble learning method that combines multiple decision trees to make predictions. It's one of the most popular and powerful machine learning algorithms, known for its accuracy and robustness.\n",
    "\n",
    "### Key Concepts:\n",
    "\n",
    "1. **Ensemble Method**: Combines predictions from multiple models (decision trees)\n",
    "2. **Bagging (Bootstrap Aggregating)**: Each tree is trained on a random subset of the data\n",
    "3. **Feature Randomness**: Each tree considers only a random subset of features at each split\n",
    "4. **Voting**: For classification, the final prediction is the mode of individual tree predictions\n",
    "5. **Averaging**: For regression, the final prediction is the average of individual tree predictions\n",
    "\n",
    "### Advantages of Random Forest:\n",
    "- Reduces overfitting compared to individual decision trees\n",
    "- Handles missing values well\n",
    "- Provides feature importance rankings\n",
    "- Robust to outliers\n",
    "- Works well with both numerical and categorical data\n",
    "\n",
    "### Disadvantages of Random Forest:\n",
    "- Less interpretable than single decision trees\n",
    "- Can be computationally expensive with large datasets\n",
    "- May overfit on noisy datasets with many trees\n",
    "\n",
    "In this tutorial, we'll explore how to implement Random Forest using scikit-learn with a real-world dataset."
   ]
  },
  {
   "cell_type": "code",
   "execution_count": null,
   "metadata": {},
   "outputs": [],
   "source": [
    "# Import necessary libraries\n",
    "# TODO: Import numpy, pandas, matplotlib, seaborn, and sklearn modules\n",
    "# Hint: You'll need datasets, train_test_split, RandomForestClassifier, RandomForestRegressor,\n",
    "#       accuracy_score, classification_report, confusion_matrix, mean_squared_error, r2_score,\n",
    "#       LabelEncoder, and other necessary components\n",
    "\n",
    "# Your code here:"
   ]
  },
  {
   "cell_type": "markdown",
   "metadata": {},
   "source": [
    "## Dataset: Adult (Census Income)\n",
    "\n",
    "We'll use the Adult dataset (also known as the Census Income dataset), which contains demographic information about individuals and whether they make more than $50K per year. This dataset has 48,842 samples and 15 features, making it an excellent example of a \"big dataset\" for machine learning.\n",
    "\n",
    "### Features:\n",
    "1. **age**: Continuous\n",
    "2. **workclass**: Private, Self-emp-not-inc, Self-emp-inc, Federal-gov, Local-gov, State-gov, Without-pay, Never-worked\n",
    "3. **fnlwgt**: Continuous (final weight)\n",
    "4. **education**: Bachelors, Some-college, 11th, HS-grad, Prof-school, Assoc-acdm, Assoc-voc, 9th, 7th-8th, 12th, Masters, 1st-4th, 10th, Doctorate, 5th-6th, Preschool\n",
    "5. **education-num**: Continuous\n",
    "6. **marital-status**: Married-civ-spouse, Divorced, Never-married, Separated, Widowed, Married-spouse-absent, Married-AF-spouse\n",
    "7. **occupation**: Tech-support, Craft-repair, Other-service, Sales, Exec-managerial, Prof-specialty, Handlers-cleaners, Machine-op-inspct, Adm-clerical, Farming-fishing, Transport-moving, Priv-house-serv, Protective-serv, Armed-Forces\n",
    "8. **relationship**: Wife, Own-child, Husband, Not-in-family, Other-relative, Unmarried\n",
    "9. **race**: White, Asian-Pac-Islander, Amer-Indian-Eskimo, Other, Black\n",
    "10. **sex**: Female, Male\n",
    "11. **capital-gain**: Continuous\n",
    "12. **capital-loss**: Continuous\n",
    "13. **hours-per-week**: Continuous\n",
    "14. **native-country**: United-States, Cambodia, England, Puerto-Rico, Canada, Germany, Outlying-US(Guam-USVI-etc), India, Japan, Greece, South, China, Cuba, Iran, Honduras, Philippines, Italy, Poland, Jamaica, Vietnam, Mexico, Portugal, Ireland, France, Dominican-Republic, Laos, Ecuador, Taiwan, Haiti, Columbia, Hungary, Guatemala, Nicaragua, Scotland, Thailand, Yugoslavia, El-Salvador, Trinadad&Tobago, Peru, Hong, Holand-Netherlands\n",
    "\n",
    "### Target:\n",
    "**income**: >50K, <=50K\n",
    "\n",
    "Let's load the dataset and explore its structure."
   ]
  },
  {
   "cell_type": "code",
   "execution_count": null,
   "metadata": {},
   "outputs": [],
   "source": [
    "# Load the Adult (Census Income) dataset\n",
    "# TODO: Use fetch_openml to load the 'adult' dataset\n",
    "# TODO: Create a DataFrame from the dataset\n",
    "# Hint: Use adult.frame.copy() to create a DataFrame\n",
    "\n",
    "# Your code here:"
   ]
  },
  {
   "cell_type": "code",
   "execution_count": null,
   "metadata": {},
   "outputs": [],
   "source": [
    "# Display basic statistics of the dataset\n",
    "# TODO: Use the info() method to show dataset information\n",
    "\n",
    "# Your code here:"
   ]
  },
  {
   "cell_type": "code",
   "execution_count": null,
   "metadata": {},
   "outputs": [],
   "source": [
    "# Check for missing values\n",
    "# TODO: Check for missing values in the dataset\n",
    "# Hint: Use isnull().sum() and filter for values > 0\n",
    "\n",
    "# Your code here:"
   ]
  },
  {
   "cell_type": "markdown",
   "metadata": {},
   "source": [
    "## Data Preprocessing\n",
    "\n",
    "Before training our Random Forest model, we need to preprocess the data. This includes handling missing values, encoding categorical variables, and preparing the data for machine learning."
   ]
  },
  {
   "cell_type": "code",
   "execution_count": null,
   "metadata": {},
   "outputs": [],
   "source": [
    "# Handle missing values\n",
    "# TODO: Replace '?' with NaN\n",
    "# TODO: Drop rows with missing values\n",
    "# TODO: Print the new dataset shape\n",
    "# TODO: Check the distribution of the target variable\n",
    "\n",
    "# Your code here:"
   ]
  },
  {
   "cell_type": "code",
   "execution_count": null,
   "metadata": {},
   "outputs": [],
   "source": [
    "# Encode categorical variables\n",
    "# TODO: Define categorical columns\n",
    "# TODO: Create label encoders for each categorical column\n",
    "# TODO: Encode the target variable\n",
    "# TODO: Print success message and show first few rows\n",
    "\n",
    "# Your code here:"
   ]
  },
  {
   "cell_type": "markdown",
   "metadata": {},
   "source": [
    "## Data Visualization\n",
    "\n",
    "Let's visualize some key aspects of our data to better understand the relationships."
   ]
  },
  {
   "cell_type": "code",
   "execution_count": null,
   "metadata": {},
   "outputs": [],
   "source": [
    "# Plot the distribution of the target variable\n",
    "# TODO: Create a bar plot of the target variable distribution\n",
    "# Hint: Use value_counts().plot(kind='bar')\n",
    "\n",
    "# Your code here:"
   ]
  },
  {
   "cell_type": "code",
   "execution_count": null,
   "metadata": {},
   "outputs": [],
   "source": [
    "# Plot the relationship between age and income\n",
    "# TODO: Create a boxplot of age by income level\n",
    "# Hint: Use boxplot() with column and by parameters\n",
    "\n",
    "# Your code here:"
   ]
  },
  {
   "cell_type": "code",
   "execution_count": null,
   "metadata": {},
   "outputs": [],
   "source": [
    "# Plot the relationship between education and income\n",
    "# TODO: Create a crosstab of education and income\n",
    "# TODO: Create a stacked bar plot\n",
    "# Hint: Use pd.crosstab() with normalize='index' and plot(kind='bar', stacked=True)\n",
    "\n",
    "# Your code here:"
   ]
  },
  {
   "cell_type": "markdown",
   "metadata": {},
   "source": [
    "## Preparing Data for Random Forest\n",
    "\n",
    "Now we'll prepare our data for training the Random Forest model by splitting it into training and testing sets."
   ]
  },
  {
   "cell_type": "code",
   "execution_count": null,
   "metadata": {},
   "outputs": [],
   "source": [
    "# Separate features (X) and target variable (y)\n",
    "# TODO: Create X (features) by dropping the target column\n",
    "# TODO: Create y (target) with just the target column\n",
    "# TODO: Split the data using train_test_split with test_size=0.2, random_state=42, and stratify=y\n",
    "# TODO: Print dataset information\n",
    "\n",
    "# Your code here:"
   ]
  },
  {
   "cell_type": "markdown",
   "metadata": {},
   "source": [
    "## Training a Random Forest Classifier\n",
    "\n",
    "Now we'll train a Random Forest Classifier to predict income levels. We'll use scikit-learn's `RandomForestClassifier` class."
   ]
  },
  {
   "cell_type": "code",
   "execution_count": null,
   "metadata": {},
   "outputs": [],
   "source": [
    "# Create a Random Forest Classifier model\n",
    "# TODO: Create a RandomForestClassifier with n_estimators=100, max_depth=10, random_state=42, and n_jobs=-1\n",
    "# TODO: Fit the model on the training data\n",
    "\n",
    "# Your code here:"
   ]
  },
  {
   "cell_type": "markdown",
   "metadata": {},
   "source": [
    "## Making Predictions\n",
    "\n",
    "Let's use our trained model to make predictions on the test set and evaluate its performance."
   ]
  },
  {
   "cell_type": "code",
   "execution_count": null,
   "metadata": {},
   "outputs": [],
   "source": [
    "# Make predictions on the test set\n",
    "# TODO: Use the predict method to make predictions on X_test\n",
    "# TODO: Get prediction probabilities for the positive class\n",
    "# TODO: Calculate accuracy using accuracy_score\n",
    "# TODO: Print performance metrics and classification report\n",
    "\n",
    "# Your code here:"
   ]
  },
  {
   "cell_type": "markdown",
   "metadata": {},
   "source": [
    "## Confusion Matrix\n",
    "\n",
    "Let's visualize the confusion matrix to better understand the model's performance."
   ]
  },
  {
   "cell_type": "code",
   "execution_count": null,
   "metadata": {},
   "outputs": [],
   "source": [
    "# Create confusion matrix\n",
    "# TODO: Create confusion matrix using confusion_matrix\n",
    "# TODO: Plot the confusion matrix using seaborn heatmap\n",
    "# TODO: Calculate precision, recall, and F1-score\n",
    "# TODO: Print the metrics\n",
    "\n",
    "# Your code here:"
   ]
  },
  {
   "cell_type": "markdown",
   "metadata": {},
   "source": [
    "## Feature Importance\n",
    "\n",
    "One of the advantages of Random Forest is that it provides insight into which features are most important for making predictions."
   ]
  },
  {
   "cell_type": "code",
   "execution_count": null,
   "metadata": {},
   "outputs": [],
   "source": [
    "# Get feature importances from the Random Forest\n",
    "# TODO: Extract feature importances from the trained model\n",
    "# TODO: Create a DataFrame with features and their importances\n",
    "# TODO: Sort by importance (descending)\n",
    "# TODO: Print the top 10 feature importances\n",
    "# TODO: Create a bar plot of top 10 feature importances\n",
    "\n",
    "# Your code here:"
   ]
  },
  {
   "cell_type": "markdown",
   "metadata": {},
   "source": [
    "## Hyperparameter Tuning\n",
    "\n",
    "Random Forest has several hyperparameters that can be tuned to improve performance. Let's experiment with different values for `n_estimators` and `max_depth`."
   ]
  },
  {
   "cell_type": "code",
   "execution_count": null,
   "metadata": {},
   "outputs": [],
   "source": [
    "# Test different n_estimators values\n",
    "# TODO: Define ranges for n_estimators and max_depth\n",
    "# TODO: Loop through combinations and train models\n",
    "# TODO: Calculate and store accuracies\n",
    "# TODO: Find the best combination\n",
    "# TODO: Create and display a heatmap of results\n",
    "\n",
    "# Your code here:"
   ]
  },
  {
   "cell_type": "markdown",
   "metadata": {},
   "source": [
    "## Comparison with Single Decision Tree\n",
    "\n",
    "Let's compare our Random Forest model with a single Decision Tree to see the improvement."
   ]
  },
  {
   "cell_type": "code",
   "execution_count": null,
   "metadata": {},
   "outputs": [],
   "source": [
    "# Train a single Decision Tree\n",
    "# TODO: Import DecisionTreeClassifier\n",
    "# TODO: Create and train a DecisionTreeClassifier\n",
    "# TODO: Make predictions with both models\n",
    "# TODO: Calculate accuracies\n",
    "# TODO: Compare the results and print the improvement\n",
    "\n",
    "# Your code here:"
   ]
  },
  {
   "cell_type": "markdown",
   "metadata": {},
   "source": [
    "## Conclusion\n",
    "\n",
    "In this tutorial, we've explored how to use Random Forest for classification tasks:\n",
    "\n",
    "### Key Takeaways:\n",
    "\n",
    "1. **Random Forest is powerful**: It combines multiple decision trees to make more accurate predictions\n",
    "\n",
    "2. **Data preprocessing is crucial**: We handled missing values and encoded categorical variables\n",
    "\n",
    "3. **Hyperparameter tuning matters**: We experimented with different combinations of `n_estimators` and `max_depth`\n",
    "\n",
    "4. **Model evaluation is important**: We used multiple metrics (accuracy, precision, recall, F1-score) to assess our model\n",
    "\n",
    "5. **Feature importance provides insights**: Random Forest helps identify which features are most predictive\n",
    "\n",
    "6. **Ensemble methods outperform single models**: Our Random Forest significantly outperformed a single decision tree\n",
    "\n",
    "### Next Steps:\n",
    "\n",
    "1. Try other hyperparameters like `min_samples_split`, `min_samples_leaf`, and `max_features`\n",
    "2. Experiment with different preprocessing techniques (e.g., one-hot encoding instead of label encoding)\n",
    "3. Apply Random Forest to regression problems\n",
    "4. Explore other ensemble methods like Gradient Boosting or XGBoost\n",
    "\n",
    "Random Forest is a versatile and powerful algorithm that often performs well out-of-the-box. Understanding it is essential for any machine learning practitioner!"
   ]
  }
 ],
 "metadata": {
  "kernelspec": {
   "display_name": "Python 3",
   "language": "python",
   "name": "python3"
  },
  "language_info": {
   "codemirror_mode": {
    "name": "ipython",
    "version": 3
   },
   "file_extension": ".py",
   "mimetype": "text/x-python",
   "name": "python",
   "nbconvert_exporter": "python",
   "pygments_lexer": "ipython3",
   "version": "3.8.5"
  }
 },
 "nbformat": 4,
 "nbformat_minor": 4
}
